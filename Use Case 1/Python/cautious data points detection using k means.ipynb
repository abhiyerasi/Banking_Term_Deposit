{
 "cells": [
  {
   "cell_type": "code",
   "execution_count": 1,
   "metadata": {},
   "outputs": [],
   "source": [
    "# IMport the required libraries\n",
    "%matplotlib inline\n",
    "import numpy as np\n",
    "import matplotlib.pyplot as plt\n",
    "from sklearn.neighbors import LocalOutlierFactor\n",
    "import seaborn as sns\n",
    "import pandas as pd\n",
    "from sklearn.preprocessing import MinMaxScaler\n",
    "from scipy.spatial.distance import cdist"
   ]
  },
  {
   "cell_type": "code",
   "execution_count": 2,
   "metadata": {},
   "outputs": [],
   "source": [
    "# Load the datset\n",
    "train = pd.read_excel(\"usecase-1.xlsx\")"
   ]
  },
  {
   "cell_type": "code",
   "execution_count": 3,
   "metadata": {},
   "outputs": [
    {
     "name": "stdout",
     "output_type": "stream",
     "text": [
      "<class 'pandas.core.frame.DataFrame'>\n",
      "RangeIndex: 20409 entries, 0 to 20408\n",
      "Data columns (total 19 columns):\n",
      "NewID                         20409 non-null int64\n",
      "request_no                    20409 non-null object\n",
      "bill_amount                   20409 non-null int64\n",
      "claim Status                  20409 non-null object\n",
      "No. of Tour Days              20409 non-null float64\n",
      "Mode of Transport             20409 non-null object\n",
      "Distance in KMs               20409 non-null float64\n",
      "Tier                          20409 non-null object\n",
      "date_of_joining               20409 non-null object\n",
      "date_of_birth                 20409 non-null object\n",
      "CostCentre_Code               20408 non-null object\n",
      "Travel_Purpose_Description    20409 non-null object\n",
      "IC                            20409 non-null object\n",
      "joinmonth                     20409 non-null object\n",
      "joindate                      20409 non-null int64\n",
      "joinyear                      20409 non-null int64\n",
      "birthmonth                    20409 non-null object\n",
      "birthdate                     20409 non-null int64\n",
      "birthyear                     20409 non-null int64\n",
      "dtypes: float64(2), int64(6), object(11)\n",
      "memory usage: 3.0+ MB\n"
     ]
    }
   ],
   "source": [
    "# Get the train Info\n",
    "train.info()"
   ]
  },
  {
   "cell_type": "code",
   "execution_count": 4,
   "metadata": {},
   "outputs": [
    {
     "data": {
      "text/plain": [
       "NewID                         0\n",
       "request_no                    0\n",
       "bill_amount                   0\n",
       "claim Status                  0\n",
       "No. of Tour Days              0\n",
       "Mode of Transport             0\n",
       "Distance in KMs               0\n",
       "Tier                          0\n",
       "date_of_joining               0\n",
       "date_of_birth                 0\n",
       "CostCentre_Code               1\n",
       "Travel_Purpose_Description    0\n",
       "IC                            0\n",
       "joinmonth                     0\n",
       "joindate                      0\n",
       "joinyear                      0\n",
       "birthmonth                    0\n",
       "birthdate                     0\n",
       "birthyear                     0\n",
       "dtype: int64"
      ]
     },
     "execution_count": 4,
     "metadata": {},
     "output_type": "execute_result"
    }
   ],
   "source": [
    "#check for any missing values\n",
    "train.apply(lambda x: sum(x.isnull()),axis=0)"
   ]
  },
  {
   "cell_type": "markdown",
   "metadata": {},
   "source": [
    "There is only one data point which is null we can drop that data point."
   ]
  },
  {
   "cell_type": "code",
   "execution_count": 5,
   "metadata": {},
   "outputs": [
    {
     "data": {
      "text/html": [
       "<div>\n",
       "<style scoped>\n",
       "    .dataframe tbody tr th:only-of-type {\n",
       "        vertical-align: middle;\n",
       "    }\n",
       "\n",
       "    .dataframe tbody tr th {\n",
       "        vertical-align: top;\n",
       "    }\n",
       "\n",
       "    .dataframe thead th {\n",
       "        text-align: right;\n",
       "    }\n",
       "</style>\n",
       "<table border=\"1\" class=\"dataframe\">\n",
       "  <thead>\n",
       "    <tr style=\"text-align: right;\">\n",
       "      <th></th>\n",
       "      <th>NewID</th>\n",
       "      <th>bill_amount</th>\n",
       "      <th>No. of Tour Days</th>\n",
       "      <th>Distance in KMs</th>\n",
       "      <th>joindate</th>\n",
       "      <th>joinyear</th>\n",
       "      <th>birthdate</th>\n",
       "      <th>birthyear</th>\n",
       "    </tr>\n",
       "  </thead>\n",
       "  <tbody>\n",
       "    <tr>\n",
       "      <th>count</th>\n",
       "      <td>20409.000000</td>\n",
       "      <td>20409.000000</td>\n",
       "      <td>20409.000000</td>\n",
       "      <td>20409.000000</td>\n",
       "      <td>20409.000000</td>\n",
       "      <td>20409.000000</td>\n",
       "      <td>20409.000000</td>\n",
       "      <td>20409.00000</td>\n",
       "    </tr>\n",
       "    <tr>\n",
       "      <th>mean</th>\n",
       "      <td>17633.458229</td>\n",
       "      <td>267.014699</td>\n",
       "      <td>6.636729</td>\n",
       "      <td>27.945558</td>\n",
       "      <td>13.098829</td>\n",
       "      <td>2009.308540</td>\n",
       "      <td>14.903033</td>\n",
       "      <td>1981.86991</td>\n",
       "    </tr>\n",
       "    <tr>\n",
       "      <th>std</th>\n",
       "      <td>11567.337163</td>\n",
       "      <td>483.979355</td>\n",
       "      <td>10.139416</td>\n",
       "      <td>76.945590</td>\n",
       "      <td>9.406839</td>\n",
       "      <td>6.907854</td>\n",
       "      <td>8.975409</td>\n",
       "      <td>8.74302</td>\n",
       "    </tr>\n",
       "    <tr>\n",
       "      <th>min</th>\n",
       "      <td>1.000000</td>\n",
       "      <td>1.000000</td>\n",
       "      <td>0.500000</td>\n",
       "      <td>1.000000</td>\n",
       "      <td>1.000000</td>\n",
       "      <td>1976.000000</td>\n",
       "      <td>1.000000</td>\n",
       "      <td>1954.00000</td>\n",
       "    </tr>\n",
       "    <tr>\n",
       "      <th>25%</th>\n",
       "      <td>7303.000000</td>\n",
       "      <td>100.000000</td>\n",
       "      <td>2.000000</td>\n",
       "      <td>8.000000</td>\n",
       "      <td>4.000000</td>\n",
       "      <td>2007.000000</td>\n",
       "      <td>7.000000</td>\n",
       "      <td>1977.00000</td>\n",
       "    </tr>\n",
       "    <tr>\n",
       "      <th>50%</th>\n",
       "      <td>17683.000000</td>\n",
       "      <td>160.000000</td>\n",
       "      <td>3.500000</td>\n",
       "      <td>14.000000</td>\n",
       "      <td>12.000000</td>\n",
       "      <td>2011.000000</td>\n",
       "      <td>15.000000</td>\n",
       "      <td>1984.00000</td>\n",
       "    </tr>\n",
       "    <tr>\n",
       "      <th>75%</th>\n",
       "      <td>27875.000000</td>\n",
       "      <td>300.000000</td>\n",
       "      <td>7.000000</td>\n",
       "      <td>25.000000</td>\n",
       "      <td>20.000000</td>\n",
       "      <td>2014.000000</td>\n",
       "      <td>23.000000</td>\n",
       "      <td>1988.00000</td>\n",
       "    </tr>\n",
       "    <tr>\n",
       "      <th>max</th>\n",
       "      <td>37834.000000</td>\n",
       "      <td>28500.000000</td>\n",
       "      <td>245.000000</td>\n",
       "      <td>5000.000000</td>\n",
       "      <td>31.000000</td>\n",
       "      <td>2017.000000</td>\n",
       "      <td>31.000000</td>\n",
       "      <td>1998.00000</td>\n",
       "    </tr>\n",
       "  </tbody>\n",
       "</table>\n",
       "</div>"
      ],
      "text/plain": [
       "              NewID   bill_amount  No. of Tour Days  Distance in KMs  \\\n",
       "count  20409.000000  20409.000000      20409.000000     20409.000000   \n",
       "mean   17633.458229    267.014699          6.636729        27.945558   \n",
       "std    11567.337163    483.979355         10.139416        76.945590   \n",
       "min        1.000000      1.000000          0.500000         1.000000   \n",
       "25%     7303.000000    100.000000          2.000000         8.000000   \n",
       "50%    17683.000000    160.000000          3.500000        14.000000   \n",
       "75%    27875.000000    300.000000          7.000000        25.000000   \n",
       "max    37834.000000  28500.000000        245.000000      5000.000000   \n",
       "\n",
       "           joindate      joinyear     birthdate    birthyear  \n",
       "count  20409.000000  20409.000000  20409.000000  20409.00000  \n",
       "mean      13.098829   2009.308540     14.903033   1981.86991  \n",
       "std        9.406839      6.907854      8.975409      8.74302  \n",
       "min        1.000000   1976.000000      1.000000   1954.00000  \n",
       "25%        4.000000   2007.000000      7.000000   1977.00000  \n",
       "50%       12.000000   2011.000000     15.000000   1984.00000  \n",
       "75%       20.000000   2014.000000     23.000000   1988.00000  \n",
       "max       31.000000   2017.000000     31.000000   1998.00000  "
      ]
     },
     "execution_count": 5,
     "metadata": {},
     "output_type": "execute_result"
    }
   ],
   "source": [
    "# Summary statistics of quantitative variables and categorical variables\n",
    "train.describe()"
   ]
  },
  {
   "cell_type": "code",
   "execution_count": 6,
   "metadata": {},
   "outputs": [
    {
     "data": {
      "text/html": [
       "<div>\n",
       "<style scoped>\n",
       "    .dataframe tbody tr th:only-of-type {\n",
       "        vertical-align: middle;\n",
       "    }\n",
       "\n",
       "    .dataframe tbody tr th {\n",
       "        vertical-align: top;\n",
       "    }\n",
       "\n",
       "    .dataframe thead th {\n",
       "        text-align: right;\n",
       "    }\n",
       "</style>\n",
       "<table border=\"1\" class=\"dataframe\">\n",
       "  <thead>\n",
       "    <tr style=\"text-align: right;\">\n",
       "      <th></th>\n",
       "      <th>request_no</th>\n",
       "      <th>claim Status</th>\n",
       "      <th>Mode of Transport</th>\n",
       "      <th>Tier</th>\n",
       "      <th>date_of_joining</th>\n",
       "      <th>date_of_birth</th>\n",
       "      <th>CostCentre_Code</th>\n",
       "      <th>Travel_Purpose_Description</th>\n",
       "      <th>IC</th>\n",
       "      <th>joinmonth</th>\n",
       "      <th>birthmonth</th>\n",
       "    </tr>\n",
       "  </thead>\n",
       "  <tbody>\n",
       "    <tr>\n",
       "      <th>count</th>\n",
       "      <td>20409</td>\n",
       "      <td>20409</td>\n",
       "      <td>20409</td>\n",
       "      <td>20409</td>\n",
       "      <td>20409</td>\n",
       "      <td>20409</td>\n",
       "      <td>20408</td>\n",
       "      <td>20409</td>\n",
       "      <td>20409</td>\n",
       "      <td>20409</td>\n",
       "      <td>20409</td>\n",
       "    </tr>\n",
       "    <tr>\n",
       "      <th>unique</th>\n",
       "      <td>14832</td>\n",
       "      <td>10</td>\n",
       "      <td>4</td>\n",
       "      <td>20</td>\n",
       "      <td>3118</td>\n",
       "      <td>5743</td>\n",
       "      <td>2989</td>\n",
       "      <td>5</td>\n",
       "      <td>57</td>\n",
       "      <td>12</td>\n",
       "      <td>12</td>\n",
       "    </tr>\n",
       "    <tr>\n",
       "      <th>top</th>\n",
       "      <td>17E02MIPI014560</td>\n",
       "      <td>Approved by SSC</td>\n",
       "      <td>Auto</td>\n",
       "      <td>S&amp;E</td>\n",
       "      <td>Jul 10 2015 12:00AM</td>\n",
       "      <td>Jun  7 1983 12:00AM</td>\n",
       "      <td>63100</td>\n",
       "      <td>Business Trip</td>\n",
       "      <td>CONS</td>\n",
       "      <td>Jul</td>\n",
       "      <td>Jun</td>\n",
       "    </tr>\n",
       "    <tr>\n",
       "      <th>freq</th>\n",
       "      <td>14</td>\n",
       "      <td>19907</td>\n",
       "      <td>12906</td>\n",
       "      <td>5950</td>\n",
       "      <td>155</td>\n",
       "      <td>59</td>\n",
       "      <td>158</td>\n",
       "      <td>14999</td>\n",
       "      <td>6036</td>\n",
       "      <td>3825</td>\n",
       "      <td>2483</td>\n",
       "    </tr>\n",
       "  </tbody>\n",
       "</table>\n",
       "</div>"
      ],
      "text/plain": [
       "             request_no     claim Status Mode of Transport   Tier  \\\n",
       "count             20409            20409             20409  20409   \n",
       "unique            14832               10                 4     20   \n",
       "top     17E02MIPI014560  Approved by SSC              Auto    S&E   \n",
       "freq                 14            19907             12906   5950   \n",
       "\n",
       "            date_of_joining        date_of_birth CostCentre_Code  \\\n",
       "count                 20409                20409           20408   \n",
       "unique                 3118                 5743            2989   \n",
       "top     Jul 10 2015 12:00AM  Jun  7 1983 12:00AM           63100   \n",
       "freq                    155                   59             158   \n",
       "\n",
       "       Travel_Purpose_Description     IC joinmonth birthmonth  \n",
       "count                       20409  20409     20409      20409  \n",
       "unique                          5     57        12         12  \n",
       "top                 Business Trip   CONS       Jul        Jun  \n",
       "freq                        14999   6036      3825       2483  "
      ]
     },
     "execution_count": 6,
     "metadata": {},
     "output_type": "execute_result"
    }
   ],
   "source": [
    "train.describe(include=[\"object\"])"
   ]
  },
  {
   "cell_type": "code",
   "execution_count": 7,
   "metadata": {},
   "outputs": [],
   "source": [
    "# Drop the columns\n",
    "cols=['NewID','request_no','CostCentre_Code','date_of_joining','date_of_birth']\n",
    "for i in cols:\n",
    "    train=train.drop([i],axis=1)\n"
   ]
  },
  {
   "cell_type": "code",
   "execution_count": 8,
   "metadata": {},
   "outputs": [],
   "source": [
    "# Conver the object columns into category\n",
    "cols=['joinmonth','birthmonth','claim Status','Mode of Transport','Tier','Travel_Purpose_Description','IC','joinmonth','joinyear','birthmonth','birthyear']\n",
    "for i in cols:\n",
    "    train[i] = train[i].astype('category',copy=False)"
   ]
  },
  {
   "cell_type": "code",
   "execution_count": 10,
   "metadata": {},
   "outputs": [],
   "source": [
    "# Drop NA value\n",
    "train=train.dropna()"
   ]
  },
  {
   "cell_type": "code",
   "execution_count": 11,
   "metadata": {},
   "outputs": [],
   "source": [
    "#converting Independent Categorical into Numeriacal by creating Dummy variables\n",
    "dataset_dummy = pd.get_dummies(train)"
   ]
  },
  {
   "cell_type": "code",
   "execution_count": 12,
   "metadata": {},
   "outputs": [
    {
     "data": {
      "image/png": "[encoded data removed]",
      "text/plain": [
       "<matplotlib.figure.Figure at 0x25b9ed33128>"
      ]
     },
     "metadata": {},
     "output_type": "display_data"
    }
   ],
   "source": [
    "# K mean model building\n",
    "from sklearn.cluster import KMeans\n",
    "\n",
    "# Choosing the optimal k\n",
    "k_range = range(1,10)\n",
    "# Try clustering the data for k values ranging 1 to 10\n",
    "k_means_var = [KMeans(n_clusters = k).fit(dataset_dummy) for k in k_range]\n",
    "centroids = [X.cluster_centers_ for X in k_means_var]\n",
    "\n",
    "k_euclid = [cdist(dataset_dummy, cent, 'euclidean') for cent in centroids]\n",
    "dist = [np.min(ke, axis=1) for ke in k_euclid]\n",
    "\n",
    "# Calculate within-cluster sum of squares\n",
    "wcss = [sum(d**2) for d in dist]\n",
    "\n",
    "# Visualize the elbow method for determining k\n",
    "import matplotlib.pyplot as plt\n",
    "plt.plot(k_range, wcss)\n",
    "plt.show()"
   ]
  },
  {
   "cell_type": "code",
   "execution_count": 13,
   "metadata": {},
   "outputs": [],
   "source": [
    "# Based cluster centroid and the data point distance they are sorted from max to least.\n",
    "dist=np.argsort(np.max(KMeans(n_clusters=8).fit_transform(dataset_dummy), axis=1))"
   ]
  },
  {
   "cell_type": "code",
   "execution_count": 14,
   "metadata": {},
   "outputs": [],
   "source": [
    "kmeans_model=KMeans(n_clusters=8).fit(dataset_dummy)"
   ]
  },
  {
   "cell_type": "code",
   "execution_count": 15,
   "metadata": {},
   "outputs": [],
   "source": [
    "# Outliers in the data.\n",
    "outlierpoints=train.iloc[list(dist[0:6]),:]"
   ]
  },
  {
   "cell_type": "code",
   "execution_count": 18,
   "metadata": {},
   "outputs": [
    {
     "data": {
      "text/plain": [
       "Text(0.5,1,'KMean Clustering Suspicious Points')"
      ]
     },
     "execution_count": 18,
     "metadata": {},
     "output_type": "execute_result"
    },
    {
     "data": {
      "image/png": "[encoded data removed]",
      "text/plain": [
       "<matplotlib.figure.Figure at 0x25ba026f630>"
      ]
     },
     "metadata": {},
     "output_type": "display_data"
    }
   ],
   "source": [
    "colormap = np.array(['red', 'lime', 'blue','brown','cornsilk','yellow','green','violet'])\n",
    "\n",
    "\n",
    "plt.scatter(dataset_dummy['bill_amount'], dataset_dummy['No. of Tour Days'], c=colormap[kmeans_model.labels_], s=20)\n",
    "plt.scatter(outlierpoints['bill_amount'], outlierpoints['No. of Tour Days'], marker='X')\n",
    "plt.title(\"KMean Clustering Suspicious Points\")"
   ]
  },
  {
   "cell_type": "code",
   "execution_count": 19,
   "metadata": {},
   "outputs": [
    {
     "data": {
      "text/plain": [
       "Text(0.5,1,'KMean Clustering Suspicious Points')"
      ]
     },
     "execution_count": 19,
     "metadata": {},
     "output_type": "execute_result"
    },
    {
     "data": {
      "image/png": "[encoded data removed]",
      "text/plain": [
       "<matplotlib.figure.Figure at 0x25ba0898278>"
      ]
     },
     "metadata": {},
     "output_type": "display_data"
    }
   ],
   "source": [
    "colormap = np.array(['red', 'lime', 'blue','brown','cornsilk','yellow','green','violet'])\n",
    "markers_on = [7606, 14496, 18806, 18981, 18055, 17026]\n",
    "\n",
    "\n",
    "plt.scatter(dataset_dummy['bill_amount'], dataset_dummy['Distance in KMs'], c=colormap[kmeans_model.labels_], s=20)\n",
    "plt.scatter(outlierpoints['bill_amount'], outlierpoints['Distance in KMs'], marker='X')\n",
    "plt.title(\"KMean Clustering Suspicious Points\")"
   ]
  },
  {
   "cell_type": "markdown",
   "metadata": {},
   "source": [
    "# The points which are marked as cross marks are the very suspicious data points in the data given and can keep an eye or a triggering alarm when the distance is greater than 2000 and bill amount is above 5000"
   ]
  },
  {
   "cell_type": "code",
   "execution_count": null,
   "metadata": {},
   "outputs": [],
   "source": []
  },
  {
   "cell_type": "code",
   "execution_count": null,
   "metadata": {},
   "outputs": [],
   "source": []
  },
  {
   "cell_type": "code",
   "execution_count": null,
   "metadata": {},
   "outputs": [],
   "source": []
  }
 ],
 "metadata": {
  "kernelspec": {
   "display_name": "Python 3",
   "language": "python",
   "name": "python3"
  },
  "language_info": {
   "codemirror_mode": {
    "name": "ipython",
    "version": 3
   },
   "file_extension": ".py",
   "mimetype": "text/x-python",
   "name": "python",
   "nbconvert_exporter": "python",
   "pygments_lexer": "ipython3",
   "version": "3.5.4"
  }
 },
 "nbformat": 4,
 "nbformat_minor": 1
}
